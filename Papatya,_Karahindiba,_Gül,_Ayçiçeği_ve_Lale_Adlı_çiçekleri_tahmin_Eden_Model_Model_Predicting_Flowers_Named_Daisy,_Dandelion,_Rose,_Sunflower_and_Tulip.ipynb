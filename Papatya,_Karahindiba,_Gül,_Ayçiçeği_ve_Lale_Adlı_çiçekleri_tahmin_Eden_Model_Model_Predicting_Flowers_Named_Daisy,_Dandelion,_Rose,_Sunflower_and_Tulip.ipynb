{
 "cells": [
  {
   "cell_type": "markdown",
   "id": "48407da4-8244-4162-a72d-b9fdd04ae3d4",
   "metadata": {
    "id": "48407da4-8244-4162-a72d-b9fdd04ae3d4"
   },
   "source": [
    "# <font color=#025dfa> Papatya, Karahindiba, Gül, Ayçiçeği ve Lale Adlı çiçekleri tahmin Eden Model - Model Predicting Flowers Named Daisy, Dandelion, Rose, Sunflower and Tulip"
   ]
  },
  {
   "cell_type": "markdown",
   "id": "9792c2dd-4d03-4738-a622-40507257bff1",
   "metadata": {
    "id": "9792c2dd-4d03-4738-a622-40507257bff1"
   },
   "source": [
    "TR = Her yorum satırı kendisini üstündeki koda aittir. İlk olarak Türkçe, son olarak İngilizce yazıldı.\n",
    "\n",
    "EN = Each comment line belongs to the code above it. It was first written in Turkish and lastly in English.\n",
    "\n",
    "TR = Papatya, karahindiba, gül, ayçiçeği ve lale gibi çiçek türlerini görüntüler üzerinden otomatik olarak tanıyan bir model geliştirmeyi amaçlayan bu proje, derin öğrenme ve görüntü işleme teknikleri kullanılarak çiçek türlerinin sınıflandırılmasını hedeflemektedir.\n",
    "\n",
    "EN = This project aims to develop a model that automatically recognizes flower types such as daisies, dandelions, roses, sunflowers and tulips from images and aims to classify flower types using deep learning and image processing techniques.\n",
    "\n",
    "Kaynak/Source = https://thecleverprogrammer.com/2020/11/24/flower-recognition-with-python/"
   ]
  },
  {
   "cell_type": "code",
   "execution_count": 1,
   "id": "98f8e4eb-7913-4edb-9393-ea64c5d395fc",
   "metadata": {
    "id": "98f8e4eb-7913-4edb-9393-ea64c5d395fc"
   },
   "outputs": [],
   "source": [
    "import pandas as pd\n",
    "import os\n",
    "import cv2\n",
    "import matplotlib.pyplot as plt\n",
    "import numpy as np\n",
    "import tensorflow as tf\n",
    "import random\n",
    "import matplotlib.image as mpimg\n",
    "import warnings\n",
    "warnings.filterwarnings('ignore')\n",
    "\n",
    "from tensorflow.keras.models import Sequential\n",
    "\n",
    "from tensorflow.keras.layers import Dense, Conv2D, InputLayer , Reshape , MaxPooling2D, Flatten, Dropout, BatchNormalization\n",
    "from sklearn.model_selection import train_test_split\n",
    "\n",
    "from tensorflow.keras.applications import VGG16,ResNet50\n",
    "from tensorflow.keras.preprocessing.image import ImageDataGenerator #Tek satırda resimleri okumayı sağlıyor\n",
    "\n",
    "from PIL import Image"
   ]
  },
  {
   "cell_type": "code",
   "execution_count": 2,
   "id": "VVaixvoqa_nm",
   "metadata": {
    "colab": {
     "base_uri": "https://localhost:8080/"
    },
    "id": "VVaixvoqa_nm",
    "outputId": "283bad7a-402c-4c65-c7fe-08ef0dc75e00"
   },
   "outputs": [
    {
     "ename": "ModuleNotFoundError",
     "evalue": "No module named 'google.colab'",
     "output_type": "error",
     "traceback": [
      "\u001b[1;31m---------------------------------------------------------------------------\u001b[0m",
      "\u001b[1;31mModuleNotFoundError\u001b[0m                       Traceback (most recent call last)",
      "Cell \u001b[1;32mIn[2], line 1\u001b[0m\n\u001b[1;32m----> 1\u001b[0m \u001b[38;5;28;01mfrom\u001b[39;00m \u001b[38;5;21;01mgoogle\u001b[39;00m\u001b[38;5;21;01m.\u001b[39;00m\u001b[38;5;21;01mcolab\u001b[39;00m \u001b[38;5;28;01mimport\u001b[39;00m drive\n\u001b[0;32m      2\u001b[0m drive\u001b[38;5;241m.\u001b[39mmount(\u001b[38;5;124m'\u001b[39m\u001b[38;5;124m/content/drive\u001b[39m\u001b[38;5;124m'\u001b[39m)\n",
      "\u001b[1;31mModuleNotFoundError\u001b[0m: No module named 'google.colab'"
     ]
    }
   ],
   "source": [
    "from google.colab import drive\n",
    "#drive.mount('/content/drive')"
   ]
  },
  {
   "cell_type": "code",
   "execution_count": 7,
   "id": "63367a39-0d5d-4d4d-a920-08b76ee4b918",
   "metadata": {
    "id": "63367a39-0d5d-4d4d-a920-08b76ee4b918"
   },
   "outputs": [
    {
     "ename": "SyntaxError",
     "evalue": "(unicode error) 'unicodeescape' codec can't decode bytes in position 0-1: truncated \\UXXXXXXXX escape (3235128216.py, line 5)",
     "output_type": "error",
     "traceback": [
      "\u001b[1;36m  Cell \u001b[1;32mIn[7], line 5\u001b[1;36m\u001b[0m\n\u001b[1;33m    img_path = img_path = '\\Users\\ErenK\\OneDrive\\Belgeler\\Yapay Zeka\\Proje\\Computer Vision\\flowers'\u001b[0m\n\u001b[1;37m                          ^\u001b[0m\n\u001b[1;31mSyntaxError\u001b[0m\u001b[1;31m:\u001b[0m (unicode error) 'unicodeescape' codec can't decode bytes in position 0-1: truncated \\UXXXXXXXX escape\n"
     ]
    }
   ],
   "source": [
    "labels = ['daisy','dandelion','rose','sunflower','tulip']\n",
    "# TR = Etiketleri saklayacak bir liste oluşturur.\n",
    "# EN = Creates a list to store the labels.\n",
    "\n",
    "img_path = img_path = '/content/drive/My Drive/flowers/'\n",
    "# TR = Görüntü dosyalarının bulunduğu dizini veya yolunu saklayacak bir değişken oluşturur.\n",
    "# EN = Creates a variable to store the directory or path where the image files are located.\n"
   ]
  },
  {
   "cell_type": "code",
   "execution_count": 4,
   "id": "2e87c68a-f6d2-4201-8a3c-405615b6c8e3",
   "metadata": {
    "id": "2e87c68a-f6d2-4201-8a3c-405615b6c8e3"
   },
   "outputs": [
    {
     "name": "stdout",
     "output_type": "stream",
     "text": [
      "Klasör bulunamadı: /content/drive/My Drive/flowers/daisy\n",
      "Klasör bulunamadı: /content/drive/My Drive/flowers/dandelion\n",
      "Klasör bulunamadı: /content/drive/My Drive/flowers/rose\n",
      "Klasör bulunamadı: /content/drive/My Drive/flowers/sunflower\n",
      "Klasör bulunamadı: /content/drive/My Drive/flowers/tulip\n"
     ]
    }
   ],
   "source": [
    "img_list = []\n",
    "label_list = []\n",
    "\n",
    "for label in labels:\n",
    "    label_path = os.path.join(img_path, label)  # TR: Etiketin dizin yolunu oluşturur. / EN: Creates the directory path for the label.\n",
    "\n",
    "    if os.path.exists(label_path):  # TR: Klasörün var olup olmadığını kontrol eder. / EN: Checks if the folder exists.\n",
    "        for img_file in os.listdir(label_path):\n",
    "            img_list.append(os.path.join(label_path, img_file))\n",
    "            label_list.append(label)\n",
    "    else:\n",
    "        print(f\"Klasör bulunamadı: {label_path}\")  # TR: Klasör bulunamadı mesajı verir. / EN: Prints folder not found message.\n"
   ]
  },
  {
   "cell_type": "code",
   "execution_count": 5,
   "id": "2dc6e130-bf59-4a1b-9ee3-7ad3054fb77b",
   "metadata": {
    "id": "2dc6e130-bf59-4a1b-9ee3-7ad3054fb77b"
   },
   "outputs": [],
   "source": [
    "df = pd.DataFrame({'img': img_list, 'label': label_list})\n",
    "# TR = Görüntü dosyası yollarını ve etiketlerini içeren yeni bir DataFrame oluşturur.\n",
    "# EN = Creates a new DataFrame containing the image file paths and their corresponding labels."
   ]
  },
  {
   "cell_type": "code",
   "execution_count": null,
   "id": "976624fc-41ac-45ce-9383-294ca4231c76",
   "metadata": {
    "id": "976624fc-41ac-45ce-9383-294ca4231c76"
   },
   "outputs": [],
   "source": [
    "d = {'daisy':0,'dandelion':1,'rose':2,'sunflower':3,'tulip':4}\n",
    "# TR = Değer içeren bir sözlük oluşturur.\n",
    "# EN = Creates a dictionary containing values."
   ]
  },
  {
   "cell_type": "code",
   "execution_count": null,
   "id": "4e54be48-eb0e-492e-85e7-c7bf6b02e1fc",
   "metadata": {
    "id": "4e54be48-eb0e-492e-85e7-c7bf6b02e1fc"
   },
   "outputs": [],
   "source": [
    "df['encode_label'] = df['label'].map(d)\n",
    "# TR = 'label' sütunundaki etiketleri, 'd' sözlüğündeki karşılıklarıyla değiştirir ve sonuçları 'encode_label' adlı yeni bir sütuna ekler.\n",
    "# EN = Maps the labels in the 'label' column to their corresponding values in the dictionary 'd' and adds the results to a new column named 'encode_label'."
   ]
  },
  {
   "cell_type": "markdown",
   "id": "0b4fdff5-2291-42e0-a77a-8e52fd69b076",
   "metadata": {
    "id": "0b4fdff5-2291-42e0-a77a-8e52fd69b076"
   },
   "source": [
    "## <font color=#FFD700> EDA Keşif Amaçlı Veri Analizi - EDA - Exploratory Data Analysis"
   ]
  },
  {
   "cell_type": "code",
   "execution_count": null,
   "id": "2f0ebc90-9de8-4b17-bcbe-30b08e302f81",
   "metadata": {
    "colab": {
     "base_uri": "https://localhost:8080/",
     "height": 206
    },
    "id": "2f0ebc90-9de8-4b17-bcbe-30b08e302f81",
    "outputId": "51d8e09f-e194-4280-b793-fb14ac534284"
   },
   "outputs": [],
   "source": [
    "df.head()"
   ]
  },
  {
   "cell_type": "code",
   "execution_count": null,
   "id": "98459673-cc6f-4b17-b68c-55d7680f4270",
   "metadata": {
    "colab": {
     "base_uri": "https://localhost:8080/",
     "height": 206
    },
    "id": "98459673-cc6f-4b17-b68c-55d7680f4270",
    "outputId": "3ac03128-7375-4084-f496-a1ea0f42932d"
   },
   "outputs": [],
   "source": [
    "df.sample(5)"
   ]
  },
  {
   "cell_type": "code",
   "execution_count": null,
   "id": "78a57c7e-5521-41ca-9cb7-dd1c54d020d2",
   "metadata": {
    "colab": {
     "base_uri": "https://localhost:8080/"
    },
    "id": "78a57c7e-5521-41ca-9cb7-dd1c54d020d2",
    "outputId": "5115565d-f57b-4fcf-f2cd-11d1ebf9018e"
   },
   "outputs": [],
   "source": [
    "df.shape"
   ]
  },
  {
   "cell_type": "code",
   "execution_count": null,
   "id": "a377e4e3-b2bc-4e54-b072-8af3ecda18e9",
   "metadata": {},
   "outputs": [],
   "source": [
    "for label in labels:  \n",
    "    # TR = Her etiket için döngü başlatılır  \n",
    "    # EN = Start loop for each label\n",
    "    \n",
    "    label_images = df[df['label'] == label]['img'].tolist()  \n",
    "    # TR = İlgili etiketle eşleşen tüm görüntü yolları bir listeye alınır  \n",
    "    # EN = All image paths matching the label are retrieved into a list\n",
    "\n",
    "    if len(label_images) >= 9:  \n",
    "        # TR = Eğer görüntü sayısı 9 veya daha fazlaysa işlem devam eder  \n",
    "        # EN = Proceed if there are 9 or more images\n",
    "\n",
    "        selected_images = random.sample(label_images, 9)  \n",
    "        # TR = Görüntüler arasından rastgele 9 tanesi seçilir  \n",
    "        # EN = Randomly select 9 images from the list\n",
    "        \n",
    "        plt.figure(figsize=(15, 15))  \n",
    "        # TR = 15x15 boyutlarında bir figür oluşturulur  \n",
    "        # EN = Create a figure of size 15x15\n",
    "        \n",
    "        for i, img_path in enumerate(selected_images):  \n",
    "            # TR = Seçilen her bir görüntü için döngü başlatılır  \n",
    "            # EN = Loop through each selected image\n",
    "            \n",
    "            img = mpimg.imread(img_path)  \n",
    "            # TR = Görüntü dosyası okunur  \n",
    "            # EN = Read the image file\n",
    "            \n",
    "            plt.subplot(3, 3, i + 1)  \n",
    "            # TR = 3x3'lük bir yerleşimde görüntü konumlandırılır  \n",
    "            # EN = Place the image in a 3x3 grid\n",
    "            \n",
    "            plt.imshow(img)  \n",
    "            # TR = Görüntü ekranda gösterilir  \n",
    "            # EN = Display the image\n",
    "            \n",
    "            plt.title(label)  \n",
    "            # TR = Her görüntüye ait başlık olarak etiket eklenir  \n",
    "            # EN = Set the label as the title for each image\n",
    "            \n",
    "            plt.axis('off')  \n",
    "            # TR = Eksenler gizlenir  \n",
    "            # EN = Hide the axes\n",
    "        \n",
    "        plt.show()  \n",
    "        # TR = Görüntüler ekranda gösterilir  \n",
    "        # EN = Display the images on the screen\n",
    "        \n",
    "    else:  \n",
    "        # TR = Eğer yeterli görüntü yoksa uyarı verir  \n",
    "        # EN = If not enough images are available, show a warning message\n",
    "        \n",
    "        print(f\"Yeterli görüntü bulunamadı/Not enough images found: {label}\")  \n",
    "        # TR = Ekranda yeterli görüntü bulunamadığını belirtir  \n",
    "        # EN = Print a message that not enough images were found\n"
   ]
  },
  {
   "cell_type": "code",
   "execution_count": null,
   "id": "e6690af8-38a1-4b55-98da-ff6f54825f9c",
   "metadata": {
    "id": "e6690af8-38a1-4b55-98da-ff6f54825f9c"
   },
   "outputs": [],
   "source": [
    "x = []\n",
    "# TR = Görüntüleri saklayacak bir liste oluşturur.\n",
    "# EN = Creates a list to store the images.\n",
    "\n",
    "size = 64\n",
    "# TR = Görüntülerin yeniden boyutlandırılacağı hedef boyutu belirler.\n",
    "# EN = Sets the target size to which images will be resized.\n",
    "\n",
    "for img in df['img']:\n",
    "    img = cv2.imread(str(img))\n",
    "    # TR = Görüntüyü dosyadan okur. 'str(img)' dosya yolunu belirtir.\n",
    "    # EN = Reads the image from file. 'str(img)' specifies the file path.\n",
    "\n",
    "    img = cv2.resize(img, (size, size))\n",
    "    # TR = Görüntüyü belirtilen boyuta yeniden boyutlandırır, burada her iki boyut size olarak belittik.\n",
    "    # EN = Resizes the image to the specified size, where we specify both dimensions as size.\n",
    "\n",
    "    img = img / 255.0\n",
    "    # TR = Görüntüyü normalleştirir, pixel değerlerini 0 ile 1 arasına çeker.\n",
    "    # EN = Normalizes the image, scaling pixel values to be between 0 and 1.\n",
    "\n",
    "    x.append(img)\n",
    "    # TR = Normalleştirilmiş ve yeniden boyutlandırılmış görüntüyü listeye ekler.\n",
    "    # EN = Appends the normalized and resized image to the list."
   ]
  },
  {
   "cell_type": "code",
   "execution_count": null,
   "id": "12b40d8f-de89-4fae-9a70-ba0725fade02",
   "metadata": {
    "id": "12b40d8f-de89-4fae-9a70-ba0725fade02"
   },
   "outputs": [],
   "source": [
    "x=np.array(x)\n",
    "# TR = Yazıyı resim olarak okuyor bu yüzden diziye çevirdik.\n",
    "# EN = The text is read as an image, so we converted it to an array"
   ]
  },
  {
   "cell_type": "code",
   "execution_count": null,
   "id": "d6b5242d-63d3-46c9-8dc7-5ba978a0b65e",
   "metadata": {
    "id": "d6b5242d-63d3-46c9-8dc7-5ba978a0b65e"
   },
   "outputs": [],
   "source": [
    "y=df['encode_label']"
   ]
  },
  {
   "cell_type": "raw",
   "id": "d79c8e42-0a91-415a-9d46-1799a3a9f7f8",
   "metadata": {
    "id": "d79c8e42-0a91-415a-9d46-1799a3a9f7f8"
   },
   "source": []
  },
  {
   "cell_type": "markdown",
   "id": "094af6b1-1921-427f-8086-7216a43966c5",
   "metadata": {
    "id": "094af6b1-1921-427f-8086-7216a43966c5"
   },
   "source": [
    "## <font color='#0F52BA'> Öznitelik Mühendisliği - Feature Engineering"
   ]
  },
  {
   "cell_type": "markdown",
   "id": "7f6ece7d-bdf5-4382-81b3-860edaa5f25e",
   "metadata": {
    "id": "7f6ece7d-bdf5-4382-81b3-860edaa5f25e"
   },
   "source": [
    "### <font color=#007fff> Model - Modelling"
   ]
  },
  {
   "cell_type": "code",
   "execution_count": null,
   "id": "216c8b0c-24b5-4631-be6a-d2f5a0ee59f1",
   "metadata": {
    "id": "216c8b0c-24b5-4631-be6a-d2f5a0ee59f1"
   },
   "outputs": [],
   "source": [
    "x_train,x_test,y_train,y_test=train_test_split(x,y,test_size=.20,random_state=42)\n",
    "# TR = modelimizi eğittik.\n",
    "# EN = We trained our model."
   ]
  },
  {
   "cell_type": "code",
   "execution_count": null,
   "id": "QiG5D_UQ3roo",
   "metadata": {
    "id": "QiG5D_UQ3roo"
   },
   "outputs": [],
   "source": [
    "y_train = tf.keras.utils.to_categorical(y_train, num_classes=5)\n",
    "y_test = tf.keras.utils.to_categorical(y_test, num_classes=5)"
   ]
  },
  {
   "cell_type": "code",
   "execution_count": null,
   "id": "b9921796-40cb-4256-8a17-efeb147dc05a",
   "metadata": {
    "colab": {
     "base_uri": "https://localhost:8080/"
    },
    "id": "b9921796-40cb-4256-8a17-efeb147dc05a",
    "outputId": "41c4a082-4d1a-401a-d204-d3c0f32b21a0"
   },
   "outputs": [],
   "source": [
    "model = Sequential()\n",
    "# TR = Ardışık bir model oluşturur, katmanlar sıralı olarak eklenir.\n",
    "# EN = Creates a sequential model where layers are added in a linear stack.\n",
    "\n",
    "model.add(InputLayer(input_shape=(size,size,3)))\n",
    "# TR = Modelin giriş katmanını tanımlar ve veri boyutunu belirtir.\n",
    "# EN = Defines the input layer of the model and specifies the data dimensions.\n",
    "\n",
    "model.add(Reshape(target_shape=(size,size,3)))\n",
    "# TR = Veriyi sizexsizex3 şeklinde yeniden düzenler, gri tonlama görüntüleri için tek bir renk kanalını belirtir.\n",
    "# EN = Reshapes the data to sizexsizex3, specifying a single color channel for grayscale images.\n",
    "\n",
    "model.add(Conv2D(filters=12, kernel_size=(3,3), activation='relu'))\n",
    "# TR = Konvolüsyon işlemi ile özellikleri çıkarır, filtreler görüntüdeki desenleri öğrenir ve 'relu' aktivasyon fonksiyonu ile doğrusal olmayan ilişkileri modellemesini sağlar.\n",
    "# EN = Extracts features via convolution, where filters learn patterns in the image and the 'relu' activation function introduces non-linearity.\n",
    "\n",
    "model.add(MaxPooling2D(pool_size=(2,2)))\n",
    "# TR = Özellik haritasını küçültür ve en belirgin özellikleri seçer, böylece hesaplama maliyeti azalır ve modelin genelleştirme yeteneği artar.\n",
    "# EN = Reduces the feature map size and selects the most prominent features, reducing computation and improving the model’s ability to generalize.\n",
    "\n",
    "model.add(Flatten())\n",
    "# TR = Çok boyutlu veri kümesini tek boyutlu bir vektöre dönüştürür, tam bağlantılı katmanlarla işlem için uygun hale getirir.\n",
    "# EN = Converts the multi-dimensional feature map into a one-dimensional vector to be processed by fully connected layers.\n",
    "\n",
    "model.add(Dense(5))\n",
    "# TR = Sonuçları 5 farklı sınıfa dönüştüren bir tam bağlantılı katman ekler, bu da modelin sınıflandırma yapmasını sağlar.\n",
    "# EN = Adds a fully connected layer with 10 units to output results for 10 different classes, enabling classification.\n",
    "\n",
    "model.compile(optimizer='adam', loss=tf.keras.losses.CategoricalCrossentropy(from_logits=True), metrics=['accuracy'])\n",
    "# TR = Modeli 'adam' optimizasyonu ile derler, bu optimizasyon algoritması öğrenmeyi iyileştirir, ve 'SparseCategoricalCrossentropy' kayıp fonksiyonunu kullanarak çok sınıflı sınıflandırma yapar, doğruluk metriğiyle model performansını değerlendirir.\n",
    "# EN = Compiles the model with the 'adam' optimizer, which improves learning, uses 'SparseCategoricalCrossentropy' loss function for multi-class classification, and evaluates performance with accuracy metric.\n",
    "\n",
    "history=model.fit(x_train, y_train, validation_split=.10, epochs=10)\n",
    "# TR = Modeli eğitim verileri (train_images) ve etiketleri (train_labels) ile eğitir, %10'luk bir doğrulama seti kullanır ve 10 dönem boyunca eğitir.\n",
    "# EN = Trains the model with the training data (train_images) and labels (train_labels), uses 10% of the data for validation, and trains for 10 epochs."
   ]
  },
  {
   "cell_type": "code",
   "execution_count": null,
   "id": "17d93b9a-09ef-4eab-8043-c1d6e04a8067",
   "metadata": {
    "colab": {
     "base_uri": "https://localhost:8080/",
     "height": 305
    },
    "id": "17d93b9a-09ef-4eab-8043-c1d6e04a8067",
    "outputId": "02b17042-8da0-40fa-a15a-de65d5638a58"
   },
   "outputs": [],
   "source": [
    "model.summary()"
   ]
  },
  {
   "cell_type": "code",
   "execution_count": null,
   "id": "74994eb6-1fc7-42f5-93fb-d952c991fe7e",
   "metadata": {
    "colab": {
     "base_uri": "https://localhost:8080/"
    },
    "id": "74994eb6-1fc7-42f5-93fb-d952c991fe7e",
    "outputId": "ec13780d-5f08-4f06-a44b-9b0563b3a94c"
   },
   "outputs": [],
   "source": [
    "loss, _accuracy = model.evaluate(x_test, y_test)\n",
    "# TR = Test verileri (test_images) ve etiketleri (test_labels) ile modelin performansını değerlendirir, kayıp ve doğruluk değerlerini döndürür.\n",
    "# EN = Evaluates the model's performance using test data (test_images) and labels (test_labels), returning loss and accuracy values."
   ]
  },
  {
   "cell_type": "code",
   "execution_count": null,
   "id": "Q0x8c3uVCE1y",
   "metadata": {
    "id": "Q0x8c3uVCE1y"
   },
   "outputs": [],
   "source": [
    "plt.plot(history.history['accuracy'],label='Accuracy')\n",
    "plt.plot(history.history['val_accuracy'],label='Val_Accuracy')\n",
    "plt.legend();"
   ]
  }
 ],
 "metadata": {
  "colab": {
   "provenance": []
  },
  "kernelspec": {
   "display_name": "Python 3 (ipykernel)",
   "language": "python",
   "name": "python3"
  },
  "language_info": {
   "codemirror_mode": {
    "name": "ipython",
    "version": 3
   },
   "file_extension": ".py",
   "mimetype": "text/x-python",
   "name": "python",
   "nbconvert_exporter": "python",
   "pygments_lexer": "ipython3",
   "version": "3.12.4"
  }
 },
 "nbformat": 4,
 "nbformat_minor": 5
}
